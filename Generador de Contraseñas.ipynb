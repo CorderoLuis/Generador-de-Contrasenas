{
 "cells": [
  {
   "cell_type": "code",
   "execution_count": 2,
   "id": "7345bd15-cbd2-44ea-9fca-768e3e39232c",
   "metadata": {
    "tags": []
   },
   "outputs": [
    {
     "data": {
      "text/plain": [
       "\" ## Generador de contraseñas aleatorias.\\n\\n# Hacer un programa en Python que genere contraseñas aleatorias.\\n\\n#- **Criterios**:\\n\\n    - La contraseña debe tener mínimo 12 caracteres y máximo 24 caracteres.\\n    \\n    - La contraseña debe incluir al menos una letra minúscula, una letra mayúscula, un número y un carácter especial.\\n        - Caracteres especiales: !@#$%^&\\\\*()-\\\\_+={}[]:;'<>,.?/\\\\|~`\\n        \\n    - La contraseña debe ser generada usando la librería **random**.\\n    \\n    - La contraseña debe ser una variable de tipo **string**.\\n        \\n- **Implementación**:\\n    - Comprobar que la contraseña generada cunple con todos criterios del punto anterior. \\n\\n_**No uses este algoritmo para generar contraseñas de uso personal.**_ \""
      ]
     },
     "execution_count": 2,
     "metadata": {},
     "output_type": "execute_result"
    }
   ],
   "source": [
    "\"\"\" ## Generador de contraseñas aleatorias.\n",
    "\n",
    "# Hacer un programa en Python que genere contraseñas aleatorias.\n",
    "\n",
    "#- **Criterios**:\n",
    "\n",
    "    - La contraseña debe tener mínimo 12 caracteres y máximo 24 caracteres.\n",
    "    \n",
    "    - La contraseña debe incluir al menos una letra minúscula, una letra mayúscula, un número y un carácter especial.\n",
    "        - Caracteres especiales: !@#$%^&\\*()-\\_+={}[]:;'<>,.?/\\\\|~`\n",
    "        \n",
    "    - La contraseña debe ser generada usando la librería **random**.\n",
    "    \n",
    "    - La contraseña debe ser una variable de tipo **string**.\n",
    "        \n",
    "- **Implementación**:\n",
    "    - Comprobar que la contraseña generada cunple con todos criterios del punto anterior. \n",
    "\n",
    "_**No uses este algoritmo para generar contraseñas de uso personal.**_ \"\"\""
   ]
  },
  {
   "cell_type": "code",
   "execution_count": null,
   "id": "a93e766b-004e-4702-a100-b089d11a19bb",
   "metadata": {},
   "outputs": [
    {
     "name": "stdout",
     "output_type": "stream",
     "text": [
      "Contraseña valida:,?´/9hi^}S/=H^6-hjz8~f*\n"
     ]
    }
   ],
   "source": [
    "#Generador de contraseñas aleatorias\n",
    "\n",
    "# Libreria Random\n",
    "import random\n",
    "\n",
    "#Definición de variables\n",
    "letras_mayusculas = \"ABCDEFGHIJKLMNOPQRSTUVWXYZ\"\n",
    "letras_minusculas = letras_mayusculas.lower()\n",
    "caracteres_especiales = \"!@#$%^&*()-+={}[]:;´<>,.?/\\\\/~`\"\n",
    "numeros =\"0123456789\"\n",
    "\n",
    "#Concatenación \n",
    "caracteres = letras_mayusculas + letras_minusculas + caracteres_especiales + numeros\n",
    "\n",
    "#Lista vacia de caracteres\n",
    "password = []\n",
    "\n",
    "#Generacion de contraseña\n",
    "pass_aleatoria = random.randint(12,24) #Variable de 12 a 24 caracteres\n",
    "password = [random.choice(caracteres) for i in range(pass_aleatoria)] # Iteracion sobre variable de pass_aleatoria\n",
    "password = \"\".join(password) # De Int a String\n",
    "\n",
    "\n",
    "#Comprobación para implementacion\n",
    "# Variables igualadas a False y asi verificar requisitos de contraseña.    \n",
    "tmayusculas = False\n",
    "tminusculas = False\n",
    "tespeciales = False\n",
    "tnums = False\n",
    "\n",
    "# Bucle que itera la variable password para verificar al menos un caracter de las variable principales.   \n",
    "for i in password:\n",
    "    if i in letras_mayusculas:\n",
    "        tmayusculas = True\n",
    "    elif i in letras_minusculas:\n",
    "        tminusculas = True\n",
    "    elif i in caracteres_especiales:\n",
    "        tespeciales = True\n",
    "    elif i in numeros:\n",
    "        tnums = True\n",
    "if tmayusculas and tminusculas and tespeciales and tnums:\n",
    "        print(f\"Contraseña valida:,{password}\")\n",
    "    \n",
    "\n",
    "## Comantario de la rama adicional"
   ]
  },
  {
   "cell_type": "code",
   "execution_count": 4,
   "id": "6d75a92a-2383-4486-b4a3-a75fb43f1938",
   "metadata": {},
   "outputs": [],
   "source": [
    "#############################################################################################"
   ]
  }
 ],
 "metadata": {
  "kernelspec": {
   "display_name": "Python 3",
   "language": "python",
   "name": "python3"
  },
  "language_info": {
   "codemirror_mode": {
    "name": "ipython",
    "version": 3
   },
   "file_extension": ".py",
   "mimetype": "text/x-python",
   "name": "python",
   "nbconvert_exporter": "python",
   "pygments_lexer": "ipython3",
   "version": "3.11.9"
  }
 },
 "nbformat": 4,
 "nbformat_minor": 5
}
